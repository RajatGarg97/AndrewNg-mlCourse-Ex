{
 "cells": [
  {
   "cell_type": "code",
   "execution_count": 16,
   "metadata": {},
   "outputs": [],
   "source": [
    "import pandas as pd\n",
    "import numpy as np\n",
    "import matplotlib.pyplot as plt\n",
    "from scipy.io import loadmat"
   ]
  },
  {
   "cell_type": "code",
   "execution_count": 17,
   "metadata": {},
   "outputs": [
    {
     "data": {
      "text/plain": [
       "dict_keys(['__header__', '__version__', '__globals__', 'X', 'y', 'Xtest', 'ytest', 'Xval', 'yval'])"
      ]
     },
     "execution_count": 17,
     "metadata": {},
     "output_type": "execute_result"
    }
   ],
   "source": [
    "data = loadmat('ex5data1.mat')\n",
    "data.keys()"
   ]
  },
  {
   "cell_type": "code",
   "execution_count": 18,
   "metadata": {},
   "outputs": [],
   "source": [
    "X_train = np.c_[np.ones_like(data['X']), data['X']]\n",
    "y_train = data['y']\n",
    "\n",
    "yval = data['yval']\n",
    "Xval = np.c_[np.ones_like(data['Xval']), data['Xval']]"
   ]
  },
  {
   "cell_type": "code",
   "execution_count": 19,
   "metadata": {},
   "outputs": [
    {
     "data": {
      "image/png": "[encoded data removed]",
      "text/plain": [
       "<matplotlib.figure.Figure at 0x7fa7e0e7a9b0>"
      ]
     },
     "metadata": {},
     "output_type": "display_data"
    }
   ],
   "source": [
    "plt.scatter(X_train[:, 1], y_train, s=50, c='r', marker='x', linewidths=1)\n",
    "plt.xlabel('Change in water level (x)')\n",
    "plt.ylabel('Water flowing out of the dam (y)')\n",
    "plt.ylim(ymin=0);"
   ]
  },
  {
   "cell_type": "code",
   "execution_count": 20,
   "metadata": {},
   "outputs": [],
   "source": [
    "def regularisedlrcostfunc(theta, X, y, reg):\n",
    "    m = y.size\n",
    "    h = X.dot(theta.reshape(-1, 1))\n",
    "    J = (1/(2*m))*np.sum(np.square(h - y)) + (reg/(2*m)*np.sum(np.square(theta[1:])))\n",
    "    return J"
   ]
  },
  {
   "cell_type": "code",
   "execution_count": 21,
   "metadata": {},
   "outputs": [],
   "source": [
    "def regularisedlrgradient(theta, X, y, reg):\n",
    "    h = X.dot(theta.reshape(-1, 1))\n",
    "    m = y.size\n",
    "    grad = ((1/m)*X.T.dot(h - y)) + (reg/m)*np.r_[[[0]], theta[1:].reshape(-1,1)]\n",
    "    return grad.flatten()"
   ]
  },
  {
   "cell_type": "code",
   "execution_count": 22,
   "metadata": {},
   "outputs": [
    {
     "name": "stdout",
     "output_type": "stream",
     "text": [
      "303.9515255535976\n",
      "[-15.30301567 598.16741084]\n"
     ]
    }
   ],
   "source": [
    "initial_theta = np.ones((X_train.shape[1], 1))\n",
    "cost = regularisedlrcostfunc(initial_theta, X_train, y_train, 0)\n",
    "gradient = regularisedlrgradient(initial_theta, X_train, y_train, 0)\n",
    "print(cost)\n",
    "print(gradient)"
   ]
  },
  {
   "cell_type": "code",
   "execution_count": 23,
   "metadata": {},
   "outputs": [],
   "source": [
    "from scipy.optimize import minimize\n",
    "\n",
    "def trainmodel(X, y, reg):\n",
    "    initial_theta = np.array([[15], [15]])\n",
    "    # For some reason the minimize() function does not converge when using\n",
    "    # zeros as initial theta.\n",
    "    res = minimize(regularisedlrcostfunc, initial_theta, args=(X,y,reg), method=None, jac=regularisedlrgradient, options={'maxiter':5000})\n",
    "    return res"
   ]
  },
  {
   "cell_type": "code",
   "execution_count": 24,
   "metadata": {},
   "outputs": [
    {
     "data": {
      "text/plain": [
       "      fun: 22.373906495108905\n",
       " hess_inv: array([[1.03142187, 0.00617881],\n",
       "       [0.00617881, 0.001215  ]])\n",
       "      jac: array([ 3.42437190e-12, -5.70371898e-10])\n",
       "  message: 'Optimization terminated successfully.'\n",
       "     nfev: 6\n",
       "      nit: 4\n",
       "     njev: 6\n",
       "   status: 0\n",
       "  success: True\n",
       "        x: array([13.08790351,  0.36777923])"
      ]
     },
     "execution_count": 24,
     "metadata": {},
     "output_type": "execute_result"
    }
   ],
   "source": [
    "fit = trainmodel(X_train, y_train, 0)\n",
    "fit"
   ]
  },
  {
   "cell_type": "code",
   "execution_count": 25,
   "metadata": {},
   "outputs": [],
   "source": [
    "from sklearn.linear_model import LinearRegression, Ridge\n",
    "from sklearn.preprocessing import PolynomialFeatures"
   ]
  },
  {
   "cell_type": "code",
   "execution_count": 26,
   "metadata": {},
   "outputs": [
    {
     "name": "stdout",
     "output_type": "stream",
     "text": [
      "[13.08790351  0.36777923]\n",
      "22.373906495108912\n"
     ]
    }
   ],
   "source": [
    "regr = LinearRegression(fit_intercept=False)\n",
    "regr.fit(X_train, y_train.ravel())\n",
    "print(regr.coef_)\n",
    "print(regularisedlrcostfunc(regr.coef_, X_train, y_train, 0))"
   ]
  },
  {
   "cell_type": "code",
   "execution_count": 27,
   "metadata": {},
   "outputs": [
    {
     "data": {
      "image/png": "[encoded data removed]",
      "text/plain": [
       "<matplotlib.figure.Figure at 0x7fa7e0b63b00>"
      ]
     },
     "metadata": {},
     "output_type": "display_data"
    }
   ],
   "source": [
    "plt.plot(np.linspace(-50,40), (fit.x[0]+ (fit.x[1]*np.linspace(-50,40))), label='Scipy optimize')\n",
    "#plt.plot(np.linspace(-50,40), (regr.coef_[0]+ (regr.coef_[1]*np.linspace(-50,40))), label='Scikit-learn')\n",
    "plt.scatter(X_train[:,1], y_train, s=50, c='r', marker='x', linewidths=1)\n",
    "plt.xlabel('Change in water level (x)')\n",
    "plt.ylabel('Water flowing out of the dam (y)')\n",
    "plt.ylim(ymin=-5)\n",
    "plt.xlim(xmin=-50)\n",
    "plt.legend(loc=4);"
   ]
  },
  {
   "cell_type": "code",
   "execution_count": 34,
   "metadata": {},
   "outputs": [],
   "source": [
    "def learnCurve(X, y, Xval, yval, reg):\n",
    "    m = y.size\n",
    "    error_train = np.zeroes((m, 1))\n",
    "    error_val = np.zeros((m, 1))\n",
    "\n",
    "    for i in np.arange(m):\n",
    "        res = trainmodel(X[:i+1], y[:i+1], reg)\n",
    "        error_train[i] = regularisedlrcostfunc(res.x, X[:i+1], y[:i+1], reg)\n",
    "        error_val[i] = regularisedlrcostfunc(res.x, Xval, yval, reg)\n",
    "    return (error_train, error_val)"
   ]
  },
  {
   "cell_type": "code",
   "execution_count": null,
   "metadata": {},
   "outputs": [],
   "source": []
  }
 ],
 "metadata": {
  "kernelspec": {
   "display_name": "Python 3",
   "language": "python",
   "name": "python3"
  },
  "language_info": {
   "codemirror_mode": {
    "name": "ipython",
    "version": 3
   },
   "file_extension": ".py",
   "mimetype": "text/x-python",
   "name": "python",
   "nbconvert_exporter": "python",
   "pygments_lexer": "ipython3",
   "version": "3.6.4"
  }
 },
 "nbformat": 4,
 "nbformat_minor": 2
}
